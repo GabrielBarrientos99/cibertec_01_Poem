{
 "cells": [
  {
   "cell_type": "code",
   "execution_count": 3,
   "id": "0d4452a8-1202-4851-9c1b-67e0d42f04d6",
   "metadata": {},
   "outputs": [],
   "source": [
    "#!pip install nltk\n",
    "import pandas as pd\n",
    "from langdetect import detect\n",
    "import nltk\n",
    "from nltk.tokenize import word_tokenize\n",
    "from nltk.corpus import stopwords\n",
    "from nltk.stem import WordNetLemmatizer"
   ]
  },
  {
   "cell_type": "code",
   "execution_count": 4,
   "id": "b1fe832d-dfd3-4277-8acb-5bc55af2b255",
   "metadata": {},
   "outputs": [],
   "source": [
    "# nltk.download('punkt')\n",
    "# nltk.download('wordnet')\n",
    "# nltk.download('stopwords')"
   ]
  },
  {
   "cell_type": "code",
   "execution_count": 5,
   "id": "b666a366-2981-477e-b968-05e059c1761a",
   "metadata": {},
   "outputs": [],
   "source": [
    "class DatasetController:\n",
    "    \n",
    "    def clean_dataset(self, data):\n",
    "\n",
    "        data_poemas = data.copy()\n",
    "        # Elimina los poemas que no posean Tags (sean nulos)\n",
    "        data_poemas = data_poemas.dropna(subset=['Tags'])\n",
    "\n",
    "        # Genera la columna 'titulo'\n",
    "        data_poemas['titulo'] = data_poemas['Title'].apply(lambda x: x.replace('\\r', '').replace('\\n', '').strip())\n",
    "\n",
    "        # Genera la columna 'poema'\n",
    "        data_poemas['poema'] = data_poemas['Poem'].apply(lambda x: x.replace('\\r', '').replace('\\n', '').strip())\n",
    "\n",
    "        # Filtra los poemas que sean demasiado cortos (threshold > 15 caracteres)\n",
    "        data_poemas = data_poemas[data_poemas['poema'].apply(lambda x: len(x) > 15)]\n",
    "\n",
    "        # Reemplaza títulos no válidos por 'Desconocido'\n",
    "        data_poemas['titulo'] = data_poemas['titulo'].apply(lambda x: 'Desconocido' if len(x) < 2 else x)\n",
    "\n",
    "        # Genera la columna 'poeta'\n",
    "        data_poemas['poeta'] = data_poemas['Poet']\n",
    "\n",
    "        # Genera la columna 'tags'\n",
    "        data_poemas['tags'] = data_poemas['Tags']\n",
    "\n",
    "        # Genera la columna 'language'\n",
    "        data_poemas['language'] = data_poemas['poema'].apply(lambda x: detect(x))\n",
    "\n",
    "        # Selecciona las columnas deseadas\n",
    "        dataset = data_poemas[['titulo', 'Poem','poema', 'poeta', 'tags', 'language']]\n",
    "\n",
    "        return dataset\n",
    "        \n",
    "    def tokenize_and_clean(self, data):\n",
    "\n",
    "        dataset = data.copy()\n",
    "        # Tokenización y eliminación de stopwords\n",
    "        lemmatizer = WordNetLemmatizer()\n",
    "        stopwords_list = stopwords.words('english')\n",
    "        stopwords_list = [i.replace(\"'\", '') for i in stopwords_list]\n",
    "        stopwords_list.extend(['yeah', 'oh', 'ah', 'uh',\"'\",'.','-','?','!'])\n",
    "\n",
    "        dataset['tokens'] = dataset['poema'].apply(word_tokenize)\n",
    "        dataset['tokens_sin_stopwords'] = dataset['tokens'].apply(lambda x: [item for item in x if item.lower() not in stopwords_list])\n",
    "        dataset['tokens_finales'] = dataset['tokens_sin_stopwords'].apply(lambda x: [lemmatizer.lemmatize(i, pos='v') for i in x])\n",
    "        dataset['texto_final'] = dataset['tokens_finales'].apply(lambda x: ' '.join([i for i in x]))\n",
    "                \n",
    "        return dataset"
   ]
  },
  {
   "cell_type": "code",
   "execution_count": 6,
   "id": "4abdb4aa-7257-411c-8bce-bf3ee1979cbd",
   "metadata": {},
   "outputs": [],
   "source": [
    "# Ejemplo de uso\n",
    "data_poemas = pd.read_csv('PoetryFoundationData.csv')\n",
    "controller = DatasetController()"
   ]
  },
  {
   "cell_type": "code",
   "execution_count": 7,
   "id": "eec9a75d-b2b7-4373-81e6-b6f0996aec98",
   "metadata": {},
   "outputs": [],
   "source": [
    "cleaned_data = controller.clean_dataset(data_poemas)\n",
    "cleaned_data.to_csv('dataPoemasCleaned.csv')"
   ]
  },
  {
   "cell_type": "code",
   "execution_count": 8,
   "id": "c5cec46f-1d3e-4bcb-a694-2f75c52b5182",
   "metadata": {},
   "outputs": [],
   "source": [
    "final_data = controller.tokenize_and_clean(cleaned_data)\n",
    "final_data.to_csv('dataPoemasTokenized.csv')"
   ]
  },
  {
   "cell_type": "code",
   "execution_count": 9,
   "id": "03f82c5d-d9cd-4aee-bb6e-948a63b82598",
   "metadata": {},
   "outputs": [
    {
     "data": {
      "text/html": [
       "<div>\n",
       "<style scoped>\n",
       "    .dataframe tbody tr th:only-of-type {\n",
       "        vertical-align: middle;\n",
       "    }\n",
       "\n",
       "    .dataframe tbody tr th {\n",
       "        vertical-align: top;\n",
       "    }\n",
       "\n",
       "    .dataframe thead th {\n",
       "        text-align: right;\n",
       "    }\n",
       "</style>\n",
       "<table border=\"1\" class=\"dataframe\">\n",
       "  <thead>\n",
       "    <tr style=\"text-align: right;\">\n",
       "      <th></th>\n",
       "      <th>titulo</th>\n",
       "      <th>Poem</th>\n",
       "      <th>poema</th>\n",
       "      <th>poeta</th>\n",
       "      <th>tags</th>\n",
       "      <th>language</th>\n",
       "      <th>tokens</th>\n",
       "      <th>tokens_sin_stopwords</th>\n",
       "      <th>tokens_finales</th>\n",
       "      <th>texto_final</th>\n",
       "    </tr>\n",
       "  </thead>\n",
       "  <tbody>\n",
       "    <tr>\n",
       "      <th>6</th>\n",
       "      <td>Invisible Fish</td>\n",
       "      <td>\\r\\r\\nInvisible fish swim this ghost ocean now...</td>\n",
       "      <td>Invisible fish swim this ghost ocean now descr...</td>\n",
       "      <td>Joy Harjo</td>\n",
       "      <td>Living,Time &amp; Brevity,Relationships,Family &amp; A...</td>\n",
       "      <td>en</td>\n",
       "      <td>[Invisible, fish, swim, this, ghost, ocean, no...</td>\n",
       "      <td>[Invisible, fish, swim, ghost, ocean, describe...</td>\n",
       "      <td>[Invisible, fish, swim, ghost, ocean, describe...</td>\n",
       "      <td>Invisible fish swim ghost ocean describe wave ...</td>\n",
       "    </tr>\n",
       "    <tr>\n",
       "      <th>7</th>\n",
       "      <td>Don’t Bother the Earth Spirit</td>\n",
       "      <td>\\r\\r\\nDon’t bother the earth spirit who lives ...</td>\n",
       "      <td>Don’t bother the earth spirit who lives here. ...</td>\n",
       "      <td>Joy Harjo</td>\n",
       "      <td>Religion,The Spiritual,Mythology &amp; Folklore,Fa...</td>\n",
       "      <td>en</td>\n",
       "      <td>[Don, ’, t, bother, the, earth, spirit, who, l...</td>\n",
       "      <td>[’, bother, earth, spirit, lives, working, sto...</td>\n",
       "      <td>[’, bother, earth, spirit, live, work, story, ...</td>\n",
       "      <td>’ bother earth spirit live work story oldest s...</td>\n",
       "    </tr>\n",
       "    <tr>\n",
       "      <th>9</th>\n",
       "      <td>[\"Hour in which I consider hydrangea\"]</td>\n",
       "      <td>\\r\\r\\nHour in which I consider hydrangea, a sa...</td>\n",
       "      <td>Hour in which I consider hydrangea, a salt or ...</td>\n",
       "      <td>Simone White</td>\n",
       "      <td>Living,Parenthood,The Body,The Mind,Nature,Tre...</td>\n",
       "      <td>en</td>\n",
       "      <td>[Hour, in, which, I, consider, hydrangea, ,, a...</td>\n",
       "      <td>[Hour, consider, hydrangea, ,, salt, sand, pla...</td>\n",
       "      <td>[Hour, consider, hydrangea, ,, salt, sand, pla...</td>\n",
       "      <td>Hour consider hydrangea , salt sand plant , va...</td>\n",
       "    </tr>\n",
       "    <tr>\n",
       "      <th>16</th>\n",
       "      <td>scars</td>\n",
       "      <td>\\r\\r\\nmy father’s body is a map\\r\\r\\na record ...</td>\n",
       "      <td>my father’s body is a mapa record of his journ...</td>\n",
       "      <td>Truong Tran</td>\n",
       "      <td>The Body,Family &amp; Ancestors</td>\n",
       "      <td>en</td>\n",
       "      <td>[my, father, ’, s, body, is, a, mapa, record, ...</td>\n",
       "      <td>[father, ’, body, mapa, record, journey, carri...</td>\n",
       "      <td>[father, ’, body, mapa, record, journey, carry...</td>\n",
       "      <td>father ’ body mapa record journey carry bullet...</td>\n",
       "    </tr>\n",
       "    <tr>\n",
       "      <th>17</th>\n",
       "      <td>what remains two</td>\n",
       "      <td>\\r\\r\\nit has long been forgotten this practice...</td>\n",
       "      <td>it has long been forgotten this practice of th...</td>\n",
       "      <td>Truong Tran</td>\n",
       "      <td>Infancy,Parenthood,The Body</td>\n",
       "      <td>en</td>\n",
       "      <td>[it, has, long, been, forgotten, this, practic...</td>\n",
       "      <td>[long, forgotten, practice, motherweaning, chi...</td>\n",
       "      <td>[long, forget, practice, motherweaning, child,...</td>\n",
       "      <td>long forget practice motherweaning child crush...</td>\n",
       "    </tr>\n",
       "  </tbody>\n",
       "</table>\n",
       "</div>"
      ],
      "text/plain": [
       "                                    titulo  \\\n",
       "6                           Invisible Fish   \n",
       "7            Don’t Bother the Earth Spirit   \n",
       "9   [\"Hour in which I consider hydrangea\"]   \n",
       "16                                   scars   \n",
       "17                        what remains two   \n",
       "\n",
       "                                                 Poem  \\\n",
       "6   \\r\\r\\nInvisible fish swim this ghost ocean now...   \n",
       "7   \\r\\r\\nDon’t bother the earth spirit who lives ...   \n",
       "9   \\r\\r\\nHour in which I consider hydrangea, a sa...   \n",
       "16  \\r\\r\\nmy father’s body is a map\\r\\r\\na record ...   \n",
       "17  \\r\\r\\nit has long been forgotten this practice...   \n",
       "\n",
       "                                                poema         poeta  \\\n",
       "6   Invisible fish swim this ghost ocean now descr...     Joy Harjo   \n",
       "7   Don’t bother the earth spirit who lives here. ...     Joy Harjo   \n",
       "9   Hour in which I consider hydrangea, a salt or ...  Simone White   \n",
       "16  my father’s body is a mapa record of his journ...   Truong Tran   \n",
       "17  it has long been forgotten this practice of th...   Truong Tran   \n",
       "\n",
       "                                                 tags language  \\\n",
       "6   Living,Time & Brevity,Relationships,Family & A...       en   \n",
       "7   Religion,The Spiritual,Mythology & Folklore,Fa...       en   \n",
       "9   Living,Parenthood,The Body,The Mind,Nature,Tre...       en   \n",
       "16                        The Body,Family & Ancestors       en   \n",
       "17                        Infancy,Parenthood,The Body       en   \n",
       "\n",
       "                                               tokens  \\\n",
       "6   [Invisible, fish, swim, this, ghost, ocean, no...   \n",
       "7   [Don, ’, t, bother, the, earth, spirit, who, l...   \n",
       "9   [Hour, in, which, I, consider, hydrangea, ,, a...   \n",
       "16  [my, father, ’, s, body, is, a, mapa, record, ...   \n",
       "17  [it, has, long, been, forgotten, this, practic...   \n",
       "\n",
       "                                 tokens_sin_stopwords  \\\n",
       "6   [Invisible, fish, swim, ghost, ocean, describe...   \n",
       "7   [’, bother, earth, spirit, lives, working, sto...   \n",
       "9   [Hour, consider, hydrangea, ,, salt, sand, pla...   \n",
       "16  [father, ’, body, mapa, record, journey, carri...   \n",
       "17  [long, forgotten, practice, motherweaning, chi...   \n",
       "\n",
       "                                       tokens_finales  \\\n",
       "6   [Invisible, fish, swim, ghost, ocean, describe...   \n",
       "7   [’, bother, earth, spirit, live, work, story, ...   \n",
       "9   [Hour, consider, hydrangea, ,, salt, sand, pla...   \n",
       "16  [father, ’, body, mapa, record, journey, carry...   \n",
       "17  [long, forget, practice, motherweaning, child,...   \n",
       "\n",
       "                                          texto_final  \n",
       "6   Invisible fish swim ghost ocean describe wave ...  \n",
       "7   ’ bother earth spirit live work story oldest s...  \n",
       "9   Hour consider hydrangea , salt sand plant , va...  \n",
       "16  father ’ body mapa record journey carry bullet...  \n",
       "17  long forget practice motherweaning child crush...  "
      ]
     },
     "execution_count": 9,
     "metadata": {},
     "output_type": "execute_result"
    }
   ],
   "source": [
    "final_data.head()"
   ]
  },
  {
   "cell_type": "code",
   "execution_count": 1,
   "id": "8dab436a-cea3-4a5b-b218-422326948463",
   "metadata": {},
   "outputs": [],
   "source": [
    "import pandas as pd\n",
    "\n",
    "data = pd.read_csv('../data/dataPoemasTokenized.csv')"
   ]
  },
  {
   "cell_type": "code",
   "execution_count": 5,
   "id": "f0847d4d",
   "metadata": {},
   "outputs": [
    {
     "data": {
      "text/plain": [
       "'\\r\\r\\nInvisible fish swim this ghost ocean now described by waves of sand, by water-worn rock. Soon the fish will learn to walk. Then humans will come ashore and paint dreams on the dying stone. Then later, much later, the ocean floor will be punctuated by Chevy trucks, carrying the dreamers’ decendants, who are going to the store.\\r\\r\\n'"
      ]
     },
     "execution_count": 5,
     "metadata": {},
     "output_type": "execute_result"
    }
   ],
   "source": [
    "data.Poem[0]"
   ]
  },
  {
   "cell_type": "code",
   "execution_count": 8,
   "id": "8c2e8189",
   "metadata": {},
   "outputs": [
    {
     "data": {
      "text/plain": [
       "2890"
      ]
     },
     "execution_count": 8,
     "metadata": {},
     "output_type": "execute_result"
    }
   ],
   "source": [
    "len(data.poeta.unique())"
   ]
  },
  {
   "cell_type": "code",
   "execution_count": null,
   "id": "9e6a2443",
   "metadata": {},
   "outputs": [],
   "source": []
  }
 ],
 "metadata": {
  "kernelspec": {
   "display_name": "Python 3",
   "language": "python",
   "name": "python3"
  },
  "language_info": {
   "codemirror_mode": {
    "name": "ipython",
    "version": 3
   },
   "file_extension": ".py",
   "mimetype": "text/x-python",
   "name": "python",
   "nbconvert_exporter": "python",
   "pygments_lexer": "ipython3",
   "version": "3.12.3"
  },
  "vscode": {
   "interpreter": {
    "hash": "335896cd0d7c08ef6287bbb9d35440a385fe818c23f784ff33b0d503ea644efa"
   }
  }
 },
 "nbformat": 4,
 "nbformat_minor": 5
}
