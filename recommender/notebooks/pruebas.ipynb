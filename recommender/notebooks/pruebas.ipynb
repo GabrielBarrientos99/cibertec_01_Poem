{
 "cells": [
  {
   "cell_type": "code",
   "execution_count": null,
   "metadata": {},
   "outputs": [],
   "source": [
    "from sklearn.metrics.pairwise import cosine_similarity"
   ]
  }
 ],
 "metadata": {
  "kernelspec": {
   "display_name": "Python 3",
   "language": "python",
   "name": "python3"
  },
  "language_info": {
   "name": "python",
   "version": "3.12.3 (tags/v3.12.3:f6650f9, Apr  9 2024, 14:05:25) [MSC v.1938 64 bit (AMD64)]"
  },
  "orig_nbformat": 4,
  "vscode": {
   "interpreter": {
    "hash": "335896cd0d7c08ef6287bbb9d35440a385fe818c23f784ff33b0d503ea644efa"
   }
  }
 },
 "nbformat": 4,
 "nbformat_minor": 2
}
