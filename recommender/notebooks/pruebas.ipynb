{
 "cells": [
  {
   "cell_type": "code",
   "execution_count": null,
   "metadata": {},
   "outputs": [],
   "source": [
    "from sklearn.metrics.pairwise import cosine_similarity"
   ]
  },
  {
   "attachments": {},
   "cell_type": "markdown",
   "metadata": {},
   "source": [
    "#### Prueba de sinonimos dado un tema"
   ]
  },
  {
   "cell_type": "code",
   "execution_count": 4,
   "metadata": {},
   "outputs": [],
   "source": [
    "#!pip install textblob"
   ]
  },
  {
   "cell_type": "code",
   "execution_count": 9,
   "metadata": {},
   "outputs": [
    {
     "name": "stdout",
     "output_type": "stream",
     "text": [
      "{'glad', 'felicitous', 'well-chosen', 'happy'}\n"
     ]
    }
   ],
   "source": [
    "from textblob import Word\n",
    "\n",
    "def get_synonyms(word):\n",
    "    blob_word = Word(word)\n",
    "    synonyms = blob_word.synsets\n",
    "    synonyms_list = []\n",
    "    for syn in synonyms:\n",
    "        for lemma in syn.lemmas():\n",
    "            synonyms_list.append(lemma.name())\n",
    "    return set(synonyms_list)\n",
    "\n",
    "word = \"happy\"\n",
    "synonyms = get_synonyms(word)\n",
    "print(synonyms)\n"
   ]
  },
  {
   "cell_type": "code",
   "execution_count": 10,
   "metadata": {},
   "outputs": [
    {
     "name": "stdout",
     "output_type": "stream",
     "text": [
      "{'terror', 'scourge', 'threat', 'holy_terror', 'brat', 'panic', 'affright', 'little_terror'}\n"
     ]
    }
   ],
   "source": [
    "word = \"terror\"\n",
    "synonyms = get_synonyms(word)\n",
    "print(synonyms)"
   ]
  },
  {
   "cell_type": "code",
   "execution_count": 14,
   "metadata": {},
   "outputs": [],
   "source": [
    "tema = \"death , science, fantansy\"\n",
    "\n",
    "sinonimos = get_synonyms(tema)\n"
   ]
  },
  {
   "cell_type": "code",
   "execution_count": 15,
   "metadata": {},
   "outputs": [],
   "source": [
    "\n",
    "palabras = [tema] + list(sinonimos)"
   ]
  },
  {
   "cell_type": "code",
   "execution_count": 16,
   "metadata": {},
   "outputs": [
    {
     "data": {
      "text/plain": [
       "['death , science, fantansy']"
      ]
     },
     "execution_count": 16,
     "metadata": {},
     "output_type": "execute_result"
    }
   ],
   "source": [
    "palabras"
   ]
  },
  {
   "cell_type": "code",
   "execution_count": 46,
   "metadata": {},
   "outputs": [],
   "source": [
    "from textblob import TextBlob\n",
    "from textblob import Word\n",
    "\n",
    "def get_synonyms(word):\n",
    "    blob_word = Word(word)\n",
    "    synonyms = blob_word.synsets\n",
    "    synonyms_list = []\n",
    "    for syn in synonyms:\n",
    "        for lemma in syn.lemmas():\n",
    "            synonyms_list.append(lemma.name())\n",
    "    return set(synonyms_list)\n",
    "\n",
    "def get_synonyms_tokenized(text):\n",
    "    tokens = TextBlob(text).words    \n",
    "    \n",
    "    total_words = []\n",
    "    for word in tokens:\n",
    "        for i in get_synonyms(Word(word)):\n",
    "            total_words.append(i)\n",
    "\n",
    "    return set(total_words)"
   ]
  },
  {
   "cell_type": "code",
   "execution_count": 50,
   "metadata": {},
   "outputs": [
    {
     "data": {
      "text/plain": [
       "{'Death',\n",
       " 'death',\n",
       " 'decease',\n",
       " 'demise',\n",
       " 'destruction',\n",
       " 'dying',\n",
       " 'end',\n",
       " 'expiry',\n",
       " 'last',\n",
       " 'science',\n",
       " 'scientific_discipline',\n",
       " 'skill'}"
      ]
     },
     "execution_count": 50,
     "metadata": {},
     "output_type": "execute_result"
    }
   ],
   "source": [
    "tema = \"death , science, fantansy\"\n",
    "get_synonyms_tokenized(tema)"
   ]
  },
  {
   "cell_type": "code",
   "execution_count": 47,
   "metadata": {},
   "outputs": [
    {
     "data": {
      "text/plain": [
       "WordList(['death', 'science', 'fantansy'])"
      ]
     },
     "execution_count": 47,
     "metadata": {},
     "output_type": "execute_result"
    }
   ],
   "source": [
    "tema = \"death , science, fantansy\"\n",
    "blob = TextBlob(tema).words\n",
    "blob"
   ]
  },
  {
   "cell_type": "code",
   "execution_count": 48,
   "metadata": {},
   "outputs": [],
   "source": [
    "total_words = []\n",
    "for word in blob:\n",
    "    for i in get_synonyms(Word(word)):\n",
    "        total_words.append(i)\n"
   ]
  },
  {
   "cell_type": "code",
   "execution_count": 49,
   "metadata": {},
   "outputs": [
    {
     "data": {
      "text/plain": [
       "['destruction',\n",
       " 'end',\n",
       " 'last',\n",
       " 'expiry',\n",
       " 'demise',\n",
       " 'dying',\n",
       " 'Death',\n",
       " 'death',\n",
       " 'decease',\n",
       " 'skill',\n",
       " 'scientific_discipline',\n",
       " 'science']"
      ]
     },
     "execution_count": 49,
     "metadata": {},
     "output_type": "execute_result"
    }
   ],
   "source": [
    "total_words "
   ]
  },
  {
   "cell_type": "code",
   "execution_count": null,
   "metadata": {},
   "outputs": [],
   "source": []
  }
 ],
 "metadata": {
  "kernelspec": {
   "display_name": "Python 3",
   "language": "python",
   "name": "python3"
  },
  "language_info": {
   "codemirror_mode": {
    "name": "ipython",
    "version": 3
   },
   "file_extension": ".py",
   "mimetype": "text/x-python",
   "name": "python",
   "nbconvert_exporter": "python",
   "pygments_lexer": "ipython3",
   "version": "3.12.3"
  },
  "orig_nbformat": 4,
  "vscode": {
   "interpreter": {
    "hash": "335896cd0d7c08ef6287bbb9d35440a385fe818c23f784ff33b0d503ea644efa"
   }
  }
 },
 "nbformat": 4,
 "nbformat_minor": 2
}
